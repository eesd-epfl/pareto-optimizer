{
 "cells": [
  {
   "cell_type": "code",
   "execution_count": null,
   "metadata": {},
   "outputs": [],
   "source": [
    "from main_algorithm import Algorithm\n",
    "from benchmarks import *"
   ]
  },
  {
   "cell_type": "code",
   "execution_count": null,
   "metadata": {},
   "outputs": [],
   "source": [
    "iterations  = 30\n",
    "pop_size = 30\n",
    "acceptance_propability = 0.95\n",
    "\n",
    "# [1] -> LHS (slow option), [2] -> MonteCarlo (fast option)\n",
    "assign_sampling_method = 2\n",
    "\n",
    "dim = 30\n",
    "step = 10e-10\n",
    "objective_option = 1\n",
    "\n",
    "if   objective_option == 1: obj = Schwefel(dim, step)\n",
    "elif objective_option == 2: obj = Rastrigin(dim, step)\n",
    "elif objective_option == 3: obj = Ackley(dim, step)\n",
    "elif objective_option == 4: obj = Sphere(dim, step)\n",
    "elif objective_option == 5: obj = XinSheYang(dim, step)\n",
    "elif objective_option == 6: obj = XinSheYang2(dim, step)\n",
    "elif objective_option == 7: obj = XinSheYang4(dim, step)\n",
    "elif objective_option == 8: obj = Quartic(dim, step)\n",
    "elif objective_option == 9: obj = Michalewicz(dim, step)\n",
    "elif objective_option == 10: obj = Rosenbrock(dim, step)\n",
    "elif objective_option == 11: obj = Easom(dim, step) # only 2D\n",
    "elif objective_option == 12: obj = Griewank(dim, step)\n",
    "else: raise Exception('Please choose a valid objective function')\n",
    "\n",
    "if   assign_sampling_method == 1: sampling_method = 'LHS'\n",
    "elif assign_sampling_method == 2: sampling_method = 'MonteCarlo'\n",
    "else: raise Exception('Please choose a valid sampling method [1] or [2].')\n",
    "    \n",
    "algo_test = Algorithm(iterations, pop_size, acceptance_propability, sampling_method, obj)\n",
    "best_solution = algo_test.run()\n",
    "print(\"The best solution obtained is: \", best_solution)\n",
    "\n",
    "obj.plot()"
   ]
  }
 ],
 "metadata": {
  "kernelspec": {
   "display_name": "Python 3",
   "language": "python",
   "name": "python3"
  },
  "language_info": {
   "codemirror_mode": {
    "name": "ipython",
    "version": 3
   },
   "file_extension": ".py",
   "mimetype": "text/x-python",
   "name": "python",
   "nbconvert_exporter": "python",
   "pygments_lexer": "ipython3",
   "version": "3.6.9"
  }
 },
 "nbformat": 4,
 "nbformat_minor": 4
}
